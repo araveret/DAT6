{
 "metadata": {
  "name": "",
  "signature": "sha256:61b7f730f9f154b01c49a818ca0210a96afe220852b41ff50a52f88b9ceb1e76"
 },
 "nbformat": 3,
 "nbformat_minor": 0,
 "worksheets": [
  {
   "cells": [
    {
     "cell_type": "heading",
     "level": 1,
     "metadata": {},
     "source": [
      "Ensemble Methods"
     ]
    },
    {
     "cell_type": "markdown",
     "metadata": {},
     "source": [
      ">...in an abundance of counselors there is safety. - Prov. 11:14"
     ]
    },
    {
     "cell_type": "markdown",
     "metadata": {},
     "source": [
      "In today's class we are going to be tackling the topic of Ensemble Methods.\n",
      "## Part I: Basic Principles\n",
      "* What is ensembling? \n",
      "* What does ensembling give us that we don't already have? \n",
      "* How do we maximize the benefits of ensembling?\n",
      "\n",
      "## Part II: Creating Ensembles\n",
      "* What is the two step process for creating an ensembling algorithm? \n",
      "* What are some different approaches for following this process? \n",
      "\n",
      "## Part III: Random Forests\n",
      "* Discuss the benefits of the Random Forest Algorithm\n",
      "* Describe the Random Forest Algorithm\n",
      "\n",
      "## Part IV: Exercise\n",
      "* Create a Random Forest\n",
      "* Compare the Random Forest with CART\n",
      "* Calculate the gini scores\n",
      "* Tune across multiple number of tree values\n",
      "\n",
      "## Bonus: Adaboost\n",
      "* Bonus: If we have time, we will also cover the Boosting, which is an alternative tree-based ensembling alternative to the Random Forest."
     ]
    },
    {
     "cell_type": "heading",
     "level": 1,
     "metadata": {},
     "source": [
      "Part I: Basic Principles"
     ]
    },
    {
     "cell_type": "markdown",
     "metadata": {},
     "source": [
      "In this section, we will cover two core questions: \n",
      "* What is ensembling and why should I care?\n",
      "* Why does ensembling work the way that it does?"
     ]
    },
    {
     "cell_type": "markdown",
     "metadata": {},
     "source": [
      "What is an ensemble method? **A method that creates and combines a committee of models.**"
     ]
    },
    {
     "cell_type": "markdown",
     "metadata": {},
     "source": [
      "**Question: ** Given a task that requires making a decision, particularly one with an objective right answer, which is more effective, a single person or a committee of people? \n",
      "<img src=\"dilbert-meeting-2.gif\">"
     ]
    },
    {
     "cell_type": "markdown",
     "metadata": {},
     "source": [
      "*Why should I care about ensembling?*\n",
      "<br /> John Elder IV of Elder Research and Sauchi Stephen Lee of University of Idaho conducted a [study](http://datamininglab.com/media/pdfs/lee_elder_97.pdf) where they trained 5 different models on 6 publicly available datasets. The results are shown below."
     ]
    },
    {
     "cell_type": "markdown",
     "metadata": {},
     "source": [
      "<img src=\"individual_predictors.PNG\">\n",
      "Next, they combined the individual predictors to create committee predictions on the same data set. The results are shown below."
     ]
    },
    {
     "cell_type": "markdown",
     "metadata": {},
     "source": [
      "<img src=\"ensemble_predictors.PNG\">"
     ]
    },
    {
     "cell_type": "markdown",
     "metadata": {},
     "source": [
      "#### Explanation\n",
      "These results were quite counterintuitive to me when I first heard of them. Why is it that ensembling improved the predictive accuracy?"
     ]
    },
    {
     "cell_type": "markdown",
     "metadata": {},
     "source": [
      "**Question: ** Given a task that requires making a decision, particularly one with an objective right answer, which is more effective, a single person or a committee of people?  <br />  <br />This depends on several factors: \n",
      "- Do the people agree on the definition of \"truth\"?\n",
      "- How likely is each person to choose the truth on his/her own? \n",
      "- Do the people come from a diverse background?\n",
      "\n",
      "If we assume answers to the aforementioned questions, we can test our our idea about the improvement that ensemble methods provide through an application of the binomial distribution "
     ]
    },
    {
     "cell_type": "markdown",
     "metadata": {},
     "source": [
      "#### Brief Aside: Binomial Distribution\n",
      "The [binomial distribution](http://en.wikipedia.org/wiki/Binomial_distribution) is a discrete probability distribution that provides the probability of getting exactly k outcomes in n, independent trials given a prior probability of success. For example: A student has 50% chance of getting into each graduate schools she applies to and her admission to a given graduate program has no bearing on her admission to any other graduate program. Given that she is applying to 20 graduate programs, what is the probability that she gets into exactly 10? What is the probability that she gets into more than 10?\n",
      "<img src=\"binomial_distribution.PNG\">"
     ]
    },
    {
     "cell_type": "markdown",
     "metadata": {},
     "source": [
      "Armed with this foundation, we can make an inference about the relative accuracy of an ensemble model. In this application, our 'trials' will be different models, and our 'outcome' will be the the model making an incorrect prediction. For the purposes of demonstration, we model the probability of the ensemble making an incorrect prediction as the probability that more than half of the models will make an incorrect prediction.\n",
      "<img src=\"condorcets_jury_theorem.png\">\n",
      "As you can see, the probability of error decreases as more models are added to the voting process. This is also known as \n",
      "[Condorcet's Jury Theorem](http://en.wikipedia.org/wiki/Condorcet%27s_jury_theorem), which was developed by a French political scientist back in the 18th century."
     ]
    },
    {
     "cell_type": "markdown",
     "metadata": {},
     "source": [
      "Intuitively, this makes sense, if a group of people, with different strengths and weaknesses come together for a common objective, they are more likely to arrive at the truth, and a single person, because each person will likely have different information and a unique perspective. For ensembling then, the models should be different from one another to truly realize the benefit of ensembling. To put a slightly finer point, the models should be different from each other in terms of their local ability to fit the data."
     ]
    },
    {
     "cell_type": "heading",
     "level": 1,
     "metadata": {},
     "source": [
      "Part II: Creating Ensemble Models"
     ]
    },
    {
     "cell_type": "markdown",
     "metadata": {},
     "source": [
      "There are two basic steps to creating an ensemble model. \n",
      "1. Create the predictive models\n",
      "2. Combine the predictions for each predictive model\n",
      "\n",
      "#### Create the predictive models\n",
      "The key with creating predictive models, is to create models that are different from one another. This is your only hope of creating trees that compliment each other. The best way of creating predictive models will be dependent on the specifics of your situation, but the general principlpe to follow is to create models that are different from each other. With that being said, here are some strategies for creating models that produce different results from each other.\n",
      "* Using different subsets of the input data to train the model. This is also known as bootstrap aggregation, or bagging. \n",
      "* Choosing different combinations of features to train the model.\n",
      "* Changing the tuning parameters used to guide the training process.\n",
      "* Training with different modeling techniques.\n",
      "\n",
      "#### Combine the predictions\n",
      "We we saw earlier, there are several ways to combine models. Some of the most common methods include the following:\n",
      "* Majority vote (applicable for discrete output)\n",
      "* Averaging (applicable for continuous output, or discrete output) \n",
      "* Stacking: When a series of model predictions are stacked, they are used as input data for another algorithm that seeks to correlation each individual prediction with the target outcome. I am told that the logistic regression is a common technique used for model stacking."
     ]
    },
    {
     "cell_type": "heading",
     "level": 1,
     "metadata": {},
     "source": [
      "Part III: The Random Forest Algorithm"
     ]
    },
    {
     "cell_type": "markdown",
     "metadata": {},
     "source": [
      "<br /> Invented by Leo Breiman and Adele Cutler in 2001, the Random Forest algorithm is one of the most popular ensembling methods because it automates a lot of the model building process and tends to produce impressive results. The original [paper](http://oz.berkeley.edu/~breiman/randomforest2001.pdf) is surprisingly easy to read, and I will use quotes from the book to guide our discussion.\n",
      "\n",
      "<img style=\"float: right\" src=\"Leo_Breiman.jpg\">"
     ]
    },
    {
     "cell_type": "markdown",
     "metadata": {},
     "source": [
      "#### Benefits of Random Forests\n",
      "> 1. Its accuracy is as good as Adaboost and sometimes better.*\n",
      "2. It's relatively robust to outliers and noise.\n",
      "3. It's faster than bagging or boosting.\n",
      "4. It gives useful internal estimates of error, strength, correlation\n",
      "and variable importance.\n",
      "5. It's simple and easily parallelized. (p. 7)\n",
      "\n",
      "<br /> *Adaboost is a technique that we haven't covered yet, however, it is another popular ensembling technique. If we have time on Thursday we will attempt to cover this topic as well."
     ]
    },
    {
     "cell_type": "markdown",
     "metadata": {},
     "source": [
      "#### Definition of Random Forests\n",
      "\n",
      "> Each new training set is drawn, with replacement,\n",
      "from the original training set. Then a tree is grown on the new training set using\n",
      "random feature selection. The trees grown are not pruned. (p. 8)\n",
      "\n",
      "<br /> As you can see, the Random Forest is an ensemble method that is built off of creating individual decision trees. Are their any lingering questions from the class on Decision Trees? Let's review the Decision Tree algorithm briefly. \n",
      "\n",
      "\n",
      "<br /> Why are trees not pruned? To increase variance (i.e., model diversity) Variance is good because it means we have different trees. Remember how this was a disadvantage we discussed of CART? Well, now this is a key feature that makes enables the Random Forest to be so powerful. There is a good reason why the tree-based methods are particularly well suited for out-of-the-box ensembling. "
     ]
    },
    {
     "cell_type": "markdown",
     "metadata": {},
     "source": [
      "#### Tuning the Random Forest\n",
      "> The generalization error for forests converges to a limit\n",
      "as the number of trees in the forest becomes large. (p. 1)\n",
      "\n",
      "<br />\n",
      "By generalization error, Breiman is referring to the error on the test dataset. We will see what he means when the error converges. This is a rather unique tuning case, since it does not ever overfit the data. To get an intution for this, think about the sample size for your survey, at first, your understanding of the demographic will improve  as you increase your sample size, however, after a while, you are going to see diminishing marginal returns. It is the same way with increasing the number of trees for the Random Forests."
     ]
    },
    {
     "cell_type": "markdown",
     "metadata": {},
     "source": [
      "### Random Forest, CART Comparison\n",
      "<img src=\"CART_RF_Adaboost_comparison.png\">\n",
      "As you can see, Random Forest consistently outperforms the CART algorithm, and it is on par (sometimes better, sometimes worse) than the Adaboost algorithm."
     ]
    },
    {
     "cell_type": "heading",
     "level": 1,
     "metadata": {},
     "source": [
      "Part IV: Exercise"
     ]
    },
    {
     "cell_type": "markdown",
     "metadata": {},
     "source": [
      "This exercise builds off of the code used in part one of class, on classification and regression trees. First we will replicate the results we achieved in the first class. Then you will split into pairs and implement a Random Forests. \n",
      "1. Create a Random Forest classifier using: `from sklearn.ensemble import RandomForestClassifier`\n",
      "2. Calculate the ROC AUC for the Random Forest. How does it compare with CART? \n",
      "3. Calculate the feature scores for the Random Forest. Which feature is the most important, which is the least important?\n",
      "4. Tune Random Forest across multiple tree values and plot the results. How many trees would you choose?"
     ]
    },
    {
     "cell_type": "heading",
     "level": 4,
     "metadata": {},
     "source": [
      "Import packages"
     ]
    },
    {
     "cell_type": "code",
     "collapsed": false,
     "input": [
      "cd C:\\Users\\josdavis\\Documents\\Personal\\GitHub\\DAT6\\data"
     ],
     "language": "python",
     "metadata": {},
     "outputs": [
      {
       "output_type": "stream",
       "stream": "stdout",
       "text": [
        "C:\\Users\\josdavis\\Documents\\Personal\\GitHub\\DAT6\\data\n"
       ]
      }
     ],
     "prompt_number": 1
    },
    {
     "cell_type": "code",
     "collapsed": false,
     "input": [
      "import pandas as pd\n",
      "import numpy as np\n",
      "from sklearn.cross_validation import train_test_split\n",
      "from sklearn import metrics\n",
      "import matplotlib.pyplot as plt\n",
      "from sklearn.ensemble import RandomForestClassifier\n",
      "from sklearn import tree\n",
      "from sklearn.grid_search import GridSearchCV"
     ],
     "language": "python",
     "metadata": {},
     "outputs": [],
     "prompt_number": 5
    },
    {
     "cell_type": "heading",
     "level": 4,
     "metadata": {},
     "source": [
      "Prepare data"
     ]
    },
    {
     "cell_type": "code",
     "collapsed": false,
     "input": [
      "# Read in the data\n",
      "titanic = pd.read_csv('../data/titanic.csv')\n",
      "\n",
      "# Take a  selection of the variables\n",
      "d = titanic[['Survived', 'Pclass', 'Sex', 'Age', 'SibSp', 'Parch']]\n",
      "\n",
      "# Convert all variables to numeric so for scikit learn\n",
      "d['Sex'] = np.where(d.Sex == 'female', 1, 0)\n",
      "\n",
      "# Fill in missing values with the mean value\n",
      "d['Age'] = d['Age'].fillna(d['Age'].mean())\n",
      "\n",
      "# Create a proxy variable representing whether the Spouse was on board\n",
      "d['Spouse'] = ((d.Age > 18) & (d.SibSp >= 1)).astype(int)"
     ],
     "language": "python",
     "metadata": {},
     "outputs": [
      {
       "output_type": "stream",
       "stream": "stderr",
       "text": [
        "-c:8: SettingWithCopyWarning: A value is trying to be set on a copy of a slice from a DataFrame.\n",
        "Try using .loc[row_index,col_indexer] = value instead\n",
        "-c:11: SettingWithCopyWarning: A value is trying to be set on a copy of a slice from a DataFrame.\n",
        "Try using .loc[row_index,col_indexer] = value instead\n"
       ]
      }
     ],
     "prompt_number": 6
    },
    {
     "cell_type": "code",
     "collapsed": false,
     "input": [
      "# Now, split the data into training and test sets\n",
      "train, test = train_test_split(d,test_size=0.3, random_state=1)\n",
      "\n",
      "# Convert them back into dataframes, for convenience\n",
      "train = pd.DataFrame(data=train, columns=d.columns)\n",
      "test = pd.DataFrame(data=test, columns=d.columns)"
     ],
     "language": "python",
     "metadata": {},
     "outputs": [],
     "prompt_number": 7
    },
    {
     "cell_type": "heading",
     "level": 4,
     "metadata": {},
     "source": [
      "Create a CART Model"
     ]
    },
    {
     "cell_type": "code",
     "collapsed": false,
     "input": [
      "# Create and fit the decision tree\n",
      "ctree = tree.DecisionTreeClassifier(random_state=1)\n",
      "ctree.fit(train.drop('Survived', axis=1), train['Survived'])\n",
      "\n",
      "# Calculate the predicted probabilities\n",
      "probs = ctree.predict_proba(test.drop('Survived', axis=1))[:,1]\n",
      "metrics.roc_auc_score(test['Survived'], probs)"
     ],
     "language": "python",
     "metadata": {},
     "outputs": [
      {
       "metadata": {},
       "output_type": "pyout",
       "prompt_number": 14,
       "text": [
        "0.73259448707019037"
       ]
      }
     ],
     "prompt_number": 14
    },
    {
     "cell_type": "heading",
     "level": 4,
     "metadata": {},
     "source": [
      "1. Create a Random Forest classifier using: `from sklearn.ensemble import RandomForestClassifier`"
     ]
    },
    {
     "cell_type": "code",
     "collapsed": false,
     "input": [
      "from sklearn.ensemble import RandomForestClassifier\n",
      "rf = RandomForestClassifier(random_state=1)\n",
      "rf.fit(train.drop('Survived', axis=1), train['Survived'])"
     ],
     "language": "python",
     "metadata": {},
     "outputs": [
      {
       "metadata": {},
       "output_type": "pyout",
       "prompt_number": 12,
       "text": [
        "RandomForestClassifier(bootstrap=True, compute_importances=None,\n",
        "            criterion='gini', max_depth=None, max_features='auto',\n",
        "            max_leaf_nodes=None, min_density=None, min_samples_leaf=1,\n",
        "            min_samples_split=2, n_estimators=10, n_jobs=1,\n",
        "            oob_score=False, random_state=1, verbose=0)"
       ]
      }
     ],
     "prompt_number": 12
    },
    {
     "cell_type": "heading",
     "level": 4,
     "metadata": {},
     "source": [
      "2. Calculate the ROC AUC for the Random Forest. How does it compare with CART? "
     ]
    },
    {
     "cell_type": "code",
     "collapsed": false,
     "input": [
      "probs = rf.predict_proba(test.drop('Survived', axis=1))[:,1]\n",
      "metrics.roc_auc_score(test['Survived'], probs)"
     ],
     "language": "python",
     "metadata": {},
     "outputs": [
      {
       "metadata": {},
       "output_type": "pyout",
       "prompt_number": 13,
       "text": [
        "0.83134413185564082"
       ]
      }
     ],
     "prompt_number": 13
    },
    {
     "cell_type": "heading",
     "level": 4,
     "metadata": {},
     "source": [
      "3. Calculate the feature scores for the Random Forest. Which feature is the most important, which is the least important?"
     ]
    },
    {
     "cell_type": "code",
     "collapsed": false,
     "input": [
      "# Calculate the feature importance\n",
      "features = d.columns.tolist()[1:]\n",
      "imp = pd.DataFrame(zip(features, ctree.feature_importances_))\n",
      "\n",
      "imp.rename(columns={0: 'variable', 1:'CART'}, inplace=True)\n",
      "imp['RF'] = rf.feature_importances_\n",
      "imp"
     ],
     "language": "python",
     "metadata": {},
     "outputs": [
      {
       "html": [
        "<div style=\"max-height:1000px;max-width:1500px;overflow:auto;\">\n",
        "<table border=\"1\" class=\"dataframe\">\n",
        "  <thead>\n",
        "    <tr style=\"text-align: right;\">\n",
        "      <th></th>\n",
        "      <th>variable</th>\n",
        "      <th>CART</th>\n",
        "      <th>RF</th>\n",
        "    </tr>\n",
        "  </thead>\n",
        "  <tbody>\n",
        "    <tr>\n",
        "      <th>0</th>\n",
        "      <td> Pclass</td>\n",
        "      <td> 0.140505</td>\n",
        "      <td> 0.140797</td>\n",
        "    </tr>\n",
        "    <tr>\n",
        "      <th>1</th>\n",
        "      <td>    Sex</td>\n",
        "      <td> 0.389290</td>\n",
        "      <td> 0.328743</td>\n",
        "    </tr>\n",
        "    <tr>\n",
        "      <th>2</th>\n",
        "      <td>    Age</td>\n",
        "      <td> 0.340557</td>\n",
        "      <td> 0.377435</td>\n",
        "    </tr>\n",
        "    <tr>\n",
        "      <th>3</th>\n",
        "      <td>  SibSp</td>\n",
        "      <td> 0.082354</td>\n",
        "      <td> 0.060387</td>\n",
        "    </tr>\n",
        "    <tr>\n",
        "      <th>4</th>\n",
        "      <td>  Parch</td>\n",
        "      <td> 0.034359</td>\n",
        "      <td> 0.071277</td>\n",
        "    </tr>\n",
        "    <tr>\n",
        "      <th>5</th>\n",
        "      <td> Spouse</td>\n",
        "      <td> 0.012934</td>\n",
        "      <td> 0.021360</td>\n",
        "    </tr>\n",
        "  </tbody>\n",
        "</table>\n",
        "</div>"
       ],
       "metadata": {},
       "output_type": "pyout",
       "prompt_number": 15,
       "text": [
        "  variable      CART        RF\n",
        "0   Pclass  0.140505  0.140797\n",
        "1      Sex  0.389290  0.328743\n",
        "2      Age  0.340557  0.377435\n",
        "3    SibSp  0.082354  0.060387\n",
        "4    Parch  0.034359  0.071277\n",
        "5   Spouse  0.012934  0.021360"
       ]
      }
     ],
     "prompt_number": 15
    },
    {
     "cell_type": "heading",
     "level": 4,
     "metadata": {},
     "source": [
      "4. Tune Random Forest across multiple tree values and plot the results. How many trees would you choose?"
     ]
    },
    {
     "cell_type": "markdown",
     "metadata": {},
     "source": [
      "Random Forests are commonly tuned along two parameters:\n",
      "* The number of trees (`n_estimators`)\n",
      "* The number of variables to choose from at each split (`max_features`)\n"
     ]
    },
    {
     "cell_type": "code",
     "collapsed": false,
     "input": [
      "%matplotlib inline\n",
      "# Tune the Random Forest\n",
      "rf = RandomForestClassifier(random_state=1)\n",
      "list_estimators = list(xrange(1, 30, 2)) + list(xrange(30, 101, 10))\n",
      "param_grid = dict(n_estimators=list_estimators)\n",
      "grid = GridSearchCV(rf, param_grid, cv=5, scoring='roc_auc')\n",
      "grid.fit(d.drop('Survived', axis=1), d['Survived'])\n"
     ],
     "language": "python",
     "metadata": {},
     "outputs": [
      {
       "metadata": {},
       "output_type": "pyout",
       "prompt_number": 16,
       "text": [
        "GridSearchCV(cv=5,\n",
        "       estimator=RandomForestClassifier(bootstrap=True, compute_importances=None,\n",
        "            criterion='gini', max_depth=None, max_features='auto',\n",
        "            max_leaf_nodes=None, min_density=None, min_samples_leaf=1,\n",
        "            min_samples_split=2, n_estimators=10, n_jobs=1,\n",
        "            oob_score=False, random_state=1, verbose=0),\n",
        "       fit_params={}, iid=True, loss_func=None, n_jobs=1,\n",
        "       param_grid={'n_estimators': [1, 3, 5, 7, 9, 11, 13, 15, 17, 19, 21, 23, 25, 27, 29, 30, 40, 50, 60, 70, 80, 90, 100]},\n",
        "       pre_dispatch='2*n_jobs', refit=True, score_func=None,\n",
        "       scoring='roc_auc', verbose=0)"
       ]
      }
     ],
     "prompt_number": 16
    },
    {
     "cell_type": "code",
     "collapsed": false,
     "input": [
      "grid_mean_scores = [result[1] for result in grid.grid_scores_]\n",
      "plt.xlim([0,100])\n",
      "plt.scatter(list_estimators, grid_mean_scores, s=40)\n",
      "plt.grid(True)\n",
      "plt.title('Tuning Random Forest Along the Number of Trees')\n",
      "plt.ylabel('AUC for 5-fold CV')\n",
      "plt.xlabel('Number of Trees')"
     ],
     "language": "python",
     "metadata": {},
     "outputs": [
      {
       "metadata": {},
       "output_type": "pyout",
       "prompt_number": 17,
       "text": [
        "<matplotlib.text.Text at 0x16672a58>"
       ]
      },
      {
       "metadata": {},
       "output_type": "display_data",
       "png": "[encoded data removed]",
       "text": [
        "<matplotlib.figure.Figure at 0x163cccf8>"
       ]
      }
     ],
     "prompt_number": 17
    },
    {
     "cell_type": "heading",
     "level": 1,
     "metadata": {},
     "source": [
      "Bonus: The Adaboost Algorithm"
     ]
    },
    {
     "cell_type": "markdown",
     "metadata": {},
     "source": [
      "This is a good time to pause and ask: how does one go about learning a new algorithm?"
     ]
    },
    {
     "cell_type": "markdown",
     "metadata": {},
     "source": [
      "Here are some of the resources I go to first:\n",
      "* [The Elements of Statistical Learning](http://statweb.stanford.edu/~tibs/ElemStatLearn/)\n",
      "* [Introduction to Statistical Learning](http://www-bcf.usc.edu/~gareth/ISL/) and the [video companions](http://www.dataschool.io/15-hours-of-expert-machine-learning-videos/).\n",
      "* [scikit-learn documentation](http://scikit-learn.org/stable/modules/classes.html)\n",
      "* Papers referenced in scikit-learn documentation      "
     ]
    },
    {
     "cell_type": "heading",
     "level": 3,
     "metadata": {},
     "source": [
      "How does the adaboost algorithm work? Let's check out the scikit learn [documentation](http://scikit-learn.org/stable/modules/ensemble.html#adaboost) for adaboost"
     ]
    },
    {
     "cell_type": "markdown",
     "metadata": {},
     "source": [
      "> The core principle of AdaBoost is to fit a sequence of weak learners (i.e., models that are only slightly better than random guessing, such as small decision trees) on repeatedly modified versions of the data. \n",
      "\n",
      "> The predictions from all of them are then combined through a weighted majority vote (or sum) to produce the final prediction. \n",
      "\n",
      "> The data modifications at each so-called boosting iteration consist of applying weights w_1, w_2, ..., w_N to each of the training samples. Initially, those weights are all set to w_i = 1/N, so that the first step simply trains a weak learner on the original data. For each successive iteration, the sample weights are individually modified and the learning algorithm is reapplied to the reweighted data. At a given step, those training examples that were incorrectly predicted by the boosted model induced at the previous step have their weights increased, whereas the weights are decreased for those that were predicted correctly. As iterations proceed, examples that are difficult to predict receive ever-increasing influence. Each subsequent weak learner is thereby forced to concentrate on the examples that are missed by the previous ones in the sequence"
     ]
    },
    {
     "cell_type": "heading",
     "level": 3,
     "metadata": {},
     "source": [
      "How are the weights calculated? Let's check out the Elements of Statistical Learning"
     ]
    },
    {
     "cell_type": "markdown",
     "metadata": {},
     "source": [
      "Source: **Elements of Statistical Learning (page 339)**"
     ]
    },
    {
     "cell_type": "markdown",
     "metadata": {},
     "source": [
      "<img src=\"adaboost_algorithm.png\">"
     ]
    },
    {
     "cell_type": "markdown",
     "metadata": {},
     "source": [
      "Notes on the terminology used:\n",
      "* Step 2: m represents a single model (e.g., a decision stump)\n",
      "* Step 2(b): I() is the indicator function, which returns 1 when the condition is true, and 0 when the condition is not true\n",
      "* Step 2(c): alpha and the error term are a single value that describe each model. Although it might not be obvious from the equation, when the error increases, alpha decreases, and when error decreases, alpha increases. \n",
      "* Step 2(d): Many Adaboost algorithms decrease the weights of correctly predicted points, however, step (d) shown here does not do this. If this algorithm were to be changed to deprioritize the weights, step (d) would be w_i = w_i * exp(-alpha) for correctly predicted observations and w_i = w_i * exp(alpha) for incorrectly predicted observations."
     ]
    },
    {
     "cell_type": "heading",
     "level": 3,
     "metadata": {},
     "source": [
      "What does all of this mean? Let's go through a visual example to help us gain some intuition on how the model works."
     ]
    },
    {
     "cell_type": "markdown",
     "metadata": {},
     "source": [
      "Source: **[Tutorial](http://www.cs.princeton.edu/~schapire/talks/nips-tutorial.pdf) by Dr. Rob Schapire of Princeton**"
     ]
    },
    {
     "cell_type": "markdown",
     "metadata": {},
     "source": [
      "Let's say we have a training set with 10 data points and two continuous features. There are 5 data points with a '+' class and five with a '-' class. The horizontal and vertical dimensions represent the two dimensions of the feature space.\n",
      "<img src=\"adaboost1.png\">"
     ]
    },
    {
     "cell_type": "markdown",
     "metadata": {},
     "source": [
      "### Training the first model\n",
      "We then learn a decision stump (i.e., a single split) on the data which defines the decision surface (background colors). Next, we increase the weight of the misclassified observations and decrease the weight of the correctly classified observations.\n",
      "<img src=\"adaboost2.png\">"
     ]
    },
    {
     "cell_type": "markdown",
     "metadata": {},
     "source": [
      "### Training the second model\n",
      "Now we learn a new decision stump based off of the weighted data. Notice that this produces a different decision surface than the previous model. Then, as before, we update the weights based off of which observations were and were not classified correctly.\n",
      "<img src=\"adaboost3.png\">"
     ]
    },
    {
     "cell_type": "markdown",
     "metadata": {},
     "source": [
      "### Training the third model\n",
      "Now we learn our third (and final) decision stump based off of the reweighted data. Notice that this produces a different decision surface than the previous two models. Then, as before, we update the weights based off of which observations were and were not classified correctly.\n",
      "<img src=\"adaboost4.png\">"
     ]
    },
    {
     "cell_type": "markdown",
     "metadata": {},
     "source": [
      "### Combining the individual models\n",
      "Now, we have three decision surfaces, each of which has an error and an alpha value. We can combine these decision surfaces by adding using the alpha values that were calculated for each model. \n",
      "<img src=\"adaboost5.png\">\n",
      "The end result gives us a more sophisticated and more accurate decision boundary than we had from any individual decision stump. "
     ]
    },
    {
     "cell_type": "markdown",
     "metadata": {},
     "source": [
      "Now let's create an AdaBoost classifier in scikit-learn. If you have followed the code for the Random Forest, then implementing the adaboost algorithm in python is trivial. "
     ]
    },
    {
     "cell_type": "heading",
     "level": 4,
     "metadata": {},
     "source": [
      "Train an AdaBoost Classifier"
     ]
    },
    {
     "cell_type": "code",
     "collapsed": false,
     "input": [
      "from sklearn.ensemble import AdaBoostClassifier"
     ],
     "language": "python",
     "metadata": {},
     "outputs": [],
     "prompt_number": 49
    },
    {
     "cell_type": "code",
     "collapsed": false,
     "input": [
      "bt = AdaBoostClassifier(random_state=1)\n",
      "bt.fit(train.drop('Survived', axis=1), train['Survived'])\n",
      "probs = bt.predict_proba(test.drop('Survived', axis=1))[:,1]\n",
      "metrics.roc_auc_score(test['Survived'], probs) # 81.55%"
     ],
     "language": "python",
     "metadata": {},
     "outputs": [
      {
       "metadata": {},
       "output_type": "pyout",
       "prompt_number": 50,
       "text": [
        "0.81554418868996859"
       ]
      }
     ],
     "prompt_number": 50
    },
    {
     "cell_type": "heading",
     "level": 4,
     "metadata": {},
     "source": [
      "Calculate Feature Importance"
     ]
    },
    {
     "cell_type": "code",
     "collapsed": false,
     "input": [
      "imp['AdaBoost'] = bt.feature_importances_\n",
      "imp"
     ],
     "language": "python",
     "metadata": {},
     "outputs": [
      {
       "html": [
        "<div style=\"max-height:1000px;max-width:1500px;overflow:auto;\">\n",
        "<table border=\"1\" class=\"dataframe\">\n",
        "  <thead>\n",
        "    <tr style=\"text-align: right;\">\n",
        "      <th></th>\n",
        "      <th>variable</th>\n",
        "      <th>cart</th>\n",
        "      <th>RF</th>\n",
        "      <th>AdaBoost</th>\n",
        "    </tr>\n",
        "  </thead>\n",
        "  <tbody>\n",
        "    <tr>\n",
        "      <th>0</th>\n",
        "      <td> Pclass</td>\n",
        "      <td> 0.140505</td>\n",
        "      <td> 0.140797</td>\n",
        "      <td> 0.14</td>\n",
        "    </tr>\n",
        "    <tr>\n",
        "      <th>1</th>\n",
        "      <td>    Sex</td>\n",
        "      <td> 0.389290</td>\n",
        "      <td> 0.328743</td>\n",
        "      <td> 0.06</td>\n",
        "    </tr>\n",
        "    <tr>\n",
        "      <th>2</th>\n",
        "      <td>    Age</td>\n",
        "      <td> 0.340557</td>\n",
        "      <td> 0.377435</td>\n",
        "      <td> 0.62</td>\n",
        "    </tr>\n",
        "    <tr>\n",
        "      <th>3</th>\n",
        "      <td>  SibSp</td>\n",
        "      <td> 0.082354</td>\n",
        "      <td> 0.060387</td>\n",
        "      <td> 0.10</td>\n",
        "    </tr>\n",
        "    <tr>\n",
        "      <th>4</th>\n",
        "      <td>  Parch</td>\n",
        "      <td> 0.034359</td>\n",
        "      <td> 0.071277</td>\n",
        "      <td> 0.08</td>\n",
        "    </tr>\n",
        "    <tr>\n",
        "      <th>5</th>\n",
        "      <td> Spouse</td>\n",
        "      <td> 0.012934</td>\n",
        "      <td> 0.021360</td>\n",
        "      <td> 0.00</td>\n",
        "    </tr>\n",
        "  </tbody>\n",
        "</table>\n",
        "</div>"
       ],
       "metadata": {},
       "output_type": "pyout",
       "prompt_number": 36,
       "text": [
        "  variable      cart        RF  AdaBoost\n",
        "0   Pclass  0.140505  0.140797      0.14\n",
        "1      Sex  0.389290  0.328743      0.06\n",
        "2      Age  0.340557  0.377435      0.62\n",
        "3    SibSp  0.082354  0.060387      0.10\n",
        "4    Parch  0.034359  0.071277      0.08\n",
        "5   Spouse  0.012934  0.021360      0.00"
       ]
      }
     ],
     "prompt_number": 36
    },
    {
     "cell_type": "heading",
     "level": 4,
     "metadata": {},
     "source": [
      "Tune along the number of trees"
     ]
    },
    {
     "cell_type": "code",
     "collapsed": false,
     "input": [
      "bt = AdaBoostClassifier(random_state=1)\n",
      "n_estimators = list(xrange(1, 30, 2)) + list(xrange(30, 101, 10))\n",
      "param_grid = dict(n_estimators=n_estimators)\n",
      "grid = GridSearchCV(rf, param_grid, cv=5, scoring='roc_auc')\n",
      "grid.fit(d.drop('Survived', axis=1), d['Survived'])\n"
     ],
     "language": "python",
     "metadata": {},
     "outputs": [
      {
       "metadata": {},
       "output_type": "pyout",
       "prompt_number": 52,
       "text": [
        "GridSearchCV(cv=5,\n",
        "       estimator=RandomForestClassifier(bootstrap=True, compute_importances=None,\n",
        "            criterion='gini', max_depth=None, max_features='auto',\n",
        "            max_leaf_nodes=None, min_density=None, min_samples_leaf=1,\n",
        "            min_samples_split=2, n_estimators=10, n_jobs=1,\n",
        "            oob_score=False, random_state=1, verbose=0),\n",
        "       fit_params={}, iid=True, loss_func=None, n_jobs=1,\n",
        "       param_grid={'n_estimators': [1, 3, 5, 7, 9, 11, 13, 15, 17, 19, 21, 23, 25, 27, 29, 30, 40, 50, 60, 70, 80, 90, 100]},\n",
        "       pre_dispatch='2*n_jobs', refit=True, score_func=None,\n",
        "       scoring='roc_auc', verbose=0)"
       ]
      }
     ],
     "prompt_number": 52
    },
    {
     "cell_type": "heading",
     "level": 4,
     "metadata": {},
     "source": [
      "Plot the tuning results"
     ]
    },
    {
     "cell_type": "code",
     "collapsed": false,
     "input": [
      "grid_mean_scores = [result[1] for result in grid.grid_scores_]\n",
      "plt.xlim([0,100])\n",
      "plt.scatter(n_estimators, grid_mean_scores, s=40)\n",
      "plt.grid(True)\n",
      "plt.title('Tuning AdaBoost Along the Number of Trees')\n",
      "plt.ylabel('AUC for 5-fold CV')\n",
      "plt.xlabel('Number of Trees')"
     ],
     "language": "python",
     "metadata": {},
     "outputs": [
      {
       "metadata": {},
       "output_type": "pyout",
       "prompt_number": 53,
       "text": [
        "<matplotlib.text.Text at 0x17067908>"
       ]
      },
      {
       "metadata": {},
       "output_type": "display_data",
       "png": "[encoded data removed]",
       "text": [
        "<matplotlib.figure.Figure at 0x1702e3c8>"
       ]
      }
     ],
     "prompt_number": 53
    }
   ],
   "metadata": {}
  }
 ]
}